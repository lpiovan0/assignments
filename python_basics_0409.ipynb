{
 "cells": [
  {
   "cell_type": "code",
   "execution_count": 7,
   "id": "6b05779f-6bde-445f-8150-c6804e0777a8",
   "metadata": {},
   "outputs": [
    {
     "name": "stdout",
     "output_type": "stream",
     "text": [
      "1\n",
      "2\n",
      "3\n",
      "5\n",
      "8\n",
      "13\n",
      "21\n",
      "34\n",
      "55\n",
      "89\n",
      "144\n"
     ]
    }
   ],
   "source": [
    "f0 = 0\n",
    "f1 = 1\n",
    "for i in range(0,11):\n",
    "    s = f0 + f1\n",
    "    print(s)\n",
    "    f0 = f1\n",
    "    f1 = s"
   ]
  },
  {
   "cell_type": "code",
   "execution_count": 19,
   "id": "1af5a340-a0e3-4e7e-a9d8-3b1a0eebeb56",
   "metadata": {},
   "outputs": [
    {
     "name": "stdout",
     "output_type": "stream",
     "text": [
      "['a', 1, 'b', 2, 'c', 3, 4, 5]\n"
     ]
    }
   ],
   "source": [
    "def func1(letters, integers):\n",
    "    newList = []\n",
    "    while letters != [] or integers != []:\n",
    "        if letters != []:\n",
    "            newList.append(letters.pop(0))\n",
    "        if integers != []:\n",
    "            newList.append(integers.pop(0))\n",
    "    return newList\n",
    "print(func1([\"a\",\"b\",\"c\"],[1,2,3,4,5]))"
   ]
  },
  {
   "cell_type": "code",
   "execution_count": null,
   "id": "cf507cd1-aee3-4728-878e-f6ab48f6884c",
   "metadata": {},
   "outputs": [],
   "source": []
  }
 ],
 "metadata": {
  "kernelspec": {
   "display_name": "Python 3 (ipykernel)",
   "language": "python",
   "name": "python3"
  },
  "language_info": {
   "codemirror_mode": {
    "name": "ipython",
    "version": 3
   },
   "file_extension": ".py",
   "mimetype": "text/x-python",
   "name": "python",
   "nbconvert_exporter": "python",
   "pygments_lexer": "ipython3",
   "version": "3.11.4"
  }
 },
 "nbformat": 4,
 "nbformat_minor": 5
}
